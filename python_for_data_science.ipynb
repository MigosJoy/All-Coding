{
 "cells": [
  {
   "cell_type": "markdown",
   "id": "897cfecd-5ce9-42bc-8aa3-fb0d3074b286",
   "metadata": {},
   "source": [
    "# Python for Data Science, AI and Development"
   ]
  },
  {
   "cell_type": "markdown",
   "id": "5479f3f5-b6da-4bbb-b07a-31e9177470e1",
   "metadata": {},
   "source": [
    "Jason Head"
   ]
  },
  {
   "cell_type": "markdown",
   "id": "0830cc88-7980-4f50-a428-3346c91e36d6",
   "metadata": {},
   "source": [
    "### Course 4 of the IBM DS Specialization"
   ]
  },
  {
   "cell_type": "markdown",
   "id": "8ab86ae7-8818-4257-b612-5e50d3b46dce",
   "metadata": {},
   "source": [
    "https://www.coursera.org/learn/python-for-applied-data-science-ai?specialization=ibm-data-science"
   ]
  },
  {
   "cell_type": "markdown",
   "id": "4bf7bf76-d2cb-44e1-b3b1-ac886845228a",
   "metadata": {},
   "source": [
    "* Describe Python Basics including Data Types, Expressions, Variables, and Data Structures.\n",
    "* Demonstrate proficiency in using Python libraries such as Pandas, Numpy, and Beautiful Soup.\n",
    "* Apply Python programming logic using Branching, Loops, Functions, Objects & Classes.\n",
    "* Access web data using APIs and web scraping from Python in Jupyter Notebooks.  "
   ]
  }
 ],
 "metadata": {
  "kernelspec": {
   "display_name": "Python 3 (ipykernel)",
   "language": "python",
   "name": "python3"
  },
  "language_info": {
   "codemirror_mode": {
    "name": "ipython",
    "version": 3
   },
   "file_extension": ".py",
   "mimetype": "text/x-python",
   "name": "python",
   "nbconvert_exporter": "python",
   "pygments_lexer": "ipython3",
   "version": "3.11.5"
  }
 },
 "nbformat": 4,
 "nbformat_minor": 5
}
