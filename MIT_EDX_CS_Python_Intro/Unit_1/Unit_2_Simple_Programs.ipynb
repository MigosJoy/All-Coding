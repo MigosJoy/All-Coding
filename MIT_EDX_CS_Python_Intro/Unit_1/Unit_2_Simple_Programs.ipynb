{
 "cells": [
  {
   "cell_type": "markdown",
   "metadata": {},
   "source": [
    "### Unit 2 Simple Programs - Started 10/17\n",
    "#### Simple Algorithms\n",
    "**Loops and Strings / Guess and Check / Approximation / Bisection**\n",
    "\n",
    "\n",
    "\n",
    "\n",
    "\n"
   ]
  }
 ],
 "metadata": {
  "language_info": {
   "name": "python"
  }
 },
 "nbformat": 4,
 "nbformat_minor": 2
}
